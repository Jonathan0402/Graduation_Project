{
  "nbformat": 4,
  "nbformat_minor": 0,
  "metadata": {
    "colab": {
      "provenance": [],
      "gpuType": "T4"
    },
    "kernelspec": {
      "name": "python3",
      "display_name": "Python 3"
    },
    "language_info": {
      "name": "python"
    }
  },
  "cells": [
    {
      "cell_type": "code",
      "source": [
        "from google.colab import drive\n",
        "drive.mount('/content/drive')"
      ],
      "metadata": {
        "colab": {
          "base_uri": "https://localhost:8080/"
        },
        "id": "YD0jBnp21_UR",
        "outputId": "bfa18954-2be1-4a24-81cc-a83d3e6eaabf"
      },
      "execution_count": null,
      "outputs": [
        {
          "output_type": "stream",
          "name": "stdout",
          "text": [
            "Drive already mounted at /content/drive; to attempt to forcibly remount, call drive.mount(\"/content/drive\", force_remount=True).\n"
          ]
        }
      ]
    },
    {
      "cell_type": "code",
      "source": [
        "import warnings\n",
        "warnings.filterwarnings(\"ignore\")\n",
        "import pandas as pd\n",
        "import numpy as np\n",
        "import tensorflow as tf\n",
        "import sklearn.metrics\n",
        "from sklearn.model_selection import train_test_split\n",
        "import matplotlib.pyplot as plt\n",
        "from tensorflow import keras\n",
        "import os\n",
        "import plotly.express as px\n",
        "import seaborn as sns\n",
        "from sklearn.manifold import TSNE\n",
        "from sklearn.cluster import KMeans\n",
        "from keras.models import Model\n",
        "from sklearn.preprocessing import StandardScaler\n",
        "import datetime\n",
        "from sklearn import datasets\n",
        "import seaborn as sns"
      ],
      "metadata": {
        "id": "JYW9mCeQ2AJT"
      },
      "execution_count": null,
      "outputs": []
    },
    {
      "cell_type": "code",
      "execution_count": null,
      "metadata": {
        "id": "XGKM1bkZWHVn"
      },
      "outputs": [],
      "source": [
        "!cp -r \"/content/drive/MyDrive/Colab Notebooks/Needed2/buy_list_10%\" \"./buy\"\n",
        "!cp -r \"/content/drive/MyDrive/Colab Notebooks/Needed2/sell_list_10%\" \"./sell\"\n",
        "!cp -r \"/content/drive/MyDrive/Colab Notebooks/Needed2/Stock_K_Data\" \"./data_k\""
      ]
    },
    {
      "cell_type": "code",
      "source": [
        "buy_files = os.listdir(\"./buy\")\n",
        "sell_files = os.listdir(\"./sell\")\n",
        "data_files = os.listdir(\"./data_k\")\n",
        "X_all_train = []\n",
        "X_all_test = []\n",
        "y_all_train = []\n",
        "y_all_test = []\n",
        "\n",
        "for f in buy_files:\n",
        "    if \".csv\" not in f: # not csv file\n",
        "        continue\n",
        "    data_date = pd.read_csv(\"./buy/\" + f)\n",
        "    data_k = pd.read_csv(\"./data_k/\" + f)\n",
        "    data_date.dropna(inplace=True)\n",
        "    data_k.dropna(inplace=True)\n",
        "    data_k.drop(columns=['close','after_inc_dec'],inplace=True)\n",
        "    if len(data_date) == 0 or len(data_k) == 0:\n",
        "      continue\n",
        "    data_date.reset_index(drop=True, inplace=True)\n",
        "    data_k.reset_index(drop=True, inplace=True)\n",
        "\n",
        "    for i in range(len(data_date)):\n",
        "        date_idx = data_date.iloc[i, 0]\n",
        "        date_str = data_date.iloc[i, 0].split()[0]\n",
        "        date = datetime.datetime.strptime(date_str, \"%Y-%m-%d\")\n",
        "        try:\n",
        "            idx = data_k.index[data_k.Date == date_idx][0]\n",
        "        except:\n",
        "            continue\n",
        "        check_volume = data_k.iloc[idx, -2]\n",
        "        if check_volume < 0.01:\n",
        "            continue\n",
        "        x = data_k.iloc[idx, 1:]\n",
        "        y = 1\n",
        "        if date.year >= 2010:\n",
        "          if date.year < 2022:    # train\n",
        "              X_all_train.append(x)\n",
        "              y_all_train.append(y)\n",
        "          elif date.year >= 2022 and date.year<=2023:  # validation\n",
        "              X_all_test.append(x)\n",
        "              y_all_test.append(y)\n",
        "\n",
        "for f in sell_files:\n",
        "    if \".csv\" not in f: # not csv file\n",
        "        continue\n",
        "    data_date = pd.read_csv(\"./sell/\" + f)\n",
        "    data_k = pd.read_csv(\"./data_k/\" + f)\n",
        "    data_date.dropna(inplace=True)\n",
        "    data_k.dropna(inplace=True)\n",
        "    data_k.drop(columns=['close','after_inc_dec'],inplace=True)\n",
        "    if len(data_date) == 0 or len(data_k) == 0:\n",
        "      continue\n",
        "    data_date.reset_index(drop=True, inplace=True)\n",
        "    data_k.reset_index(drop=True, inplace=True)\n",
        "\n",
        "    for i in range(len(data_date)):\n",
        "        date_idx = data_date.iloc[i, 0]\n",
        "        date_str = data_date.iloc[i, 0].split()[0]\n",
        "        date = datetime.datetime.strptime(date_str, \"%Y-%m-%d\")\n",
        "        try:\n",
        "            idx = data_k.index[data_k.Date == date_idx][0]\n",
        "        except:\n",
        "            continue\n",
        "        check_volume = data_k.iloc[idx, -2]\n",
        "        if check_volume < 0.01:\n",
        "            continue\n",
        "        x = data_k.iloc[idx, 1:]\n",
        "        y = 0\n",
        "\n",
        "        if date.year>=2010:\n",
        "          if date.year < 2022:    # train\n",
        "              X_all_train.append(x)\n",
        "              y_all_train.append(y)\n",
        "          elif date.year >= 2022 and date.year<=2023:  # validation\n",
        "              X_all_test.append(x)\n",
        "              y_all_test.append(y)\n",
        "\n",
        "print(\"train:\")\n",
        "for i in range(2):\n",
        "    print(f\"{i}: {y_all_train.count(i)}筆\", end=\"\\t\")\n",
        "print(\"\\ntest:\")\n",
        "for i in range(2):\n",
        "    print(f\"{i}: {y_all_test.count(i)}筆\", end=\"\\t\")\n",
        "y_all_train = tf.keras.utils.to_categorical(y_all_train, num_classes=2)\n",
        "y_all_test = tf.keras.utils.to_categorical(y_all_test, num_classes=2)\n",
        "X_all_train = np.array(X_all_train)\n",
        "X_all_test = np.array(X_all_test)\n",
        "y_all_train = np.array(y_all_train)\n",
        "y_all_test = np.array(y_all_test)\n",
        "\n",
        "from sklearn.preprocessing import StandardScaler\n",
        "scaler = StandardScaler().fit(X_all_train)\n",
        "X_all_train = scaler.transform(X_all_train)\n",
        "X_all_test = scaler.transform(X_all_test)"
      ],
      "metadata": {
        "id": "0XAKz18MW4Cv",
        "colab": {
          "base_uri": "https://localhost:8080/"
        },
        "outputId": "04b284af-99c9-4c67-df11-2be1be2eb3f1"
      },
      "execution_count": null,
      "outputs": [
        {
          "output_type": "stream",
          "name": "stdout",
          "text": [
            "train:\n",
            "0: 9490筆\t1: 12379筆\t\n",
            "test:\n",
            "0: 1580筆\t1: 1709筆\t"
          ]
        }
      ]
    },
    {
      "cell_type": "markdown",
      "source": [
        "把順序打亂"
      ],
      "metadata": {
        "id": "67-KFtvJ2fH_"
      }
    },
    {
      "cell_type": "code",
      "source": [
        "import random\n",
        "seed=3\n",
        "torch.manual_seed(seed)  # 設定 PyTorch 的隨機種子\n",
        "np.random.seed(seed)\n",
        "a = [None] * len(X_all_train)\n",
        "b = random.sample([i for i in range(len(X_all_train))],len(X_all_train))\n",
        "\n",
        "\n",
        "X_all_train = X_all_train[b]\n",
        "y_all_train = y_all_train[b]\n",
        "\n",
        "y_all_train = np.argmax(y_all_train,axis=1)"
      ],
      "metadata": {
        "id": "1ax_LtuZ2dfW"
      },
      "execution_count": null,
      "outputs": []
    },
    {
      "cell_type": "code",
      "source": [
        "!pip install torch # install the torch module\n",
        "\n",
        "import torch # import the torch module\n",
        "# seed=2\n",
        "# torch.manual_seed(seed)  # 設定 PyTorch 的隨機種子\n",
        "# np.random.seed(seed)"
      ],
      "metadata": {
        "colab": {
          "base_uri": "https://localhost:8080/"
        },
        "id": "qo8X0fcj4_kj",
        "outputId": "8f1f2c3e-01d4-436a-ecd0-3189fb4a8c52"
      },
      "execution_count": null,
      "outputs": [
        {
          "output_type": "stream",
          "name": "stdout",
          "text": [
            "Requirement already satisfied: torch in /usr/local/lib/python3.10/dist-packages (2.4.0+cu121)\n",
            "Requirement already satisfied: filelock in /usr/local/lib/python3.10/dist-packages (from torch) (3.15.4)\n",
            "Requirement already satisfied: typing-extensions>=4.8.0 in /usr/local/lib/python3.10/dist-packages (from torch) (4.12.2)\n",
            "Requirement already satisfied: sympy in /usr/local/lib/python3.10/dist-packages (from torch) (1.13.2)\n",
            "Requirement already satisfied: networkx in /usr/local/lib/python3.10/dist-packages (from torch) (3.3)\n",
            "Requirement already satisfied: jinja2 in /usr/local/lib/python3.10/dist-packages (from torch) (3.1.4)\n",
            "Requirement already satisfied: fsspec in /usr/local/lib/python3.10/dist-packages (from torch) (2024.6.1)\n",
            "Requirement already satisfied: MarkupSafe>=2.0 in /usr/local/lib/python3.10/dist-packages (from jinja2->torch) (2.1.5)\n",
            "Requirement already satisfied: mpmath<1.4,>=1.1.0 in /usr/local/lib/python3.10/dist-packages (from sympy->torch) (1.3.0)\n"
          ]
        }
      ]
    },
    {
      "cell_type": "code",
      "source": [
        "from sklearn.svm import SVC\n",
        "from sklearn import svm\n",
        "from sklearn.metrics import mean_squared_error, matthews_corrcoef\n",
        "import time\n",
        "\n",
        "# 建立 kernel='rbf' 模型\n",
        "rbfModel=svm.SVC(kernel='rbf', gamma=1, C=1, probability=True)\n",
        "\n",
        "# 使用訓練資料訓練模型`\n",
        "start = time.time()\n",
        "rbfModel.fit(X_all_train, y_all_train)\n",
        "end = time.time()\n",
        "print(f\"Training time: {end - start}s\")\n",
        "\n",
        "y_pred_test = rbfModel.predict(X_all_test)\n",
        "\n",
        "# 評估\n",
        "y_pred_test_labels = y_pred_test\n",
        "\n",
        "# 計算MCC\n",
        "mcc_test = matthews_corrcoef(np.argmax(y_all_test,1), y_pred_test_labels)\n",
        "\n",
        "# 計算準確率\n",
        "\n",
        "accuracy = rbfModel.score(X_all_test, np.argmax(y_all_test,1))"
      ],
      "metadata": {
        "id": "p56DajIL3wNk",
        "colab": {
          "base_uri": "https://localhost:8080/"
        },
        "outputId": "8823b566-bea7-4633-8ceb-bd91fe6bf173"
      },
      "execution_count": null,
      "outputs": [
        {
          "output_type": "stream",
          "name": "stdout",
          "text": [
            "Training time: 371.70728874206543s\n"
          ]
        }
      ]
    },
    {
      "cell_type": "code",
      "source": [
        "from sklearn.metrics import accuracy_score, precision_score, recall_score, f1_score\n",
        "\n",
        "y_true = np.argmax(y_all_test,1)\n",
        "y_pred = y_pred_test\n",
        "accuracy = accuracy_score(y_true, y_pred)\n",
        "\n",
        "#計算精確度\n",
        "precision = precision_score(y_true, y_pred)\n",
        "\n",
        "#計算召回率\n",
        "recall = recall_score(y_true, y_pred)\n",
        "\n",
        "#計算F1-score\n",
        "f1 = f1_score(y_true, y_pred)\n",
        "\n",
        "print(f\"Accuracy: {accuracy}\")\n",
        "print(f\"Precision: {precision}\")\n",
        "print(f\"Recall: {recall}\")\n",
        "print(f\"F1-score: {f1}\")\n",
        "print(f\"MCC: {mcc_test}\")"
      ],
      "metadata": {
        "colab": {
          "base_uri": "https://localhost:8080/"
        },
        "id": "Na-ka1PbL__R",
        "outputId": "f104e66c-7f9e-4a40-b55b-c53489146901"
      },
      "execution_count": null,
      "outputs": [
        {
          "output_type": "stream",
          "name": "stdout",
          "text": [
            "Accuracy: 0.5396777135907571\n",
            "Precision: 0.5371995421594811\n",
            "Recall: 0.8238736102984201\n",
            "F1-score: 0.6503464203233256\n",
            "MCC: 0.06973387015540089\n"
          ]
        }
      ]
    },
    {
      "cell_type": "markdown",
      "source": [
        "畫ROC圖+混淆矩陣"
      ],
      "metadata": {
        "id": "WgKu21YA2mjS"
      }
    },
    {
      "cell_type": "code",
      "source": [
        "from sklearn.metrics import roc_curve\n",
        "def draw_roc_curve(y_true, y_pred):\n",
        "  # Calculate the ROC curve\n",
        "  fpr, tpr, thresholds = roc_curve(y_true, y_pred)\n",
        "\n",
        "  # Plot the ROC curve\n",
        "  fig = plt.figure(figsize=(6, 4))\n",
        "  plt.plot([0, 1], [0, 1], 'k--')  # Plot the diagonal 50% line\n",
        "  plt.plot(fpr, tpr)  # Plot the FPR and TPR achieved by the model\n",
        "  plt.xlabel('False Positive Rate')\n",
        "  plt.ylabel('True Positive Rate')\n",
        "  plt.title('ROC Curve data_k')\n",
        "  plt.show()\n",
        "\n",
        "# Get the predictions\n",
        "y_pred = rbfModel.predict(X_all_test)\n",
        "\n",
        "# Convert the true labels to class labels\n",
        "y_true_class = np.argmax(y_all_test, axis=1)\n",
        "\n",
        "# Draw the ROC curve\n",
        "draw_roc_curve(y_true_class, y_pred)\n",
        "\n",
        "\n",
        "# 預測\n",
        "\n",
        "for i in range(len(y_pred)):\n",
        "  if y_pred[i] >= 0.5:\n",
        "    y_pred[i] = 1\n",
        "  else:\n",
        "    y_pred[i] = 0\n",
        "\n",
        "import matplotlib.pyplot as plt\n",
        "import numpy\n",
        "from sklearn import metrics\n",
        "\n",
        "confusion_matrix = metrics.confusion_matrix(y_true_class, y_pred)\n",
        "\n",
        "cm_display = metrics.ConfusionMatrixDisplay(confusion_matrix = confusion_matrix, display_labels = [\"sell\", \"buy\"])\n",
        "\n",
        "cm_display.plot()\n",
        "plt.show()"
      ],
      "metadata": {
        "id": "9_KFdSxC2lyB",
        "colab": {
          "base_uri": "https://localhost:8080/",
          "height": 845
        },
        "outputId": "db18be19-1fb1-4d63-da7e-e582977f7087"
      },
      "execution_count": null,
      "outputs": [
        {
          "output_type": "display_data",
          "data": {
            "text/plain": [
              "<Figure size 600x400 with 1 Axes>"
            ],
            "image/png": "[encoded data removed]"
          },
          "metadata": {}
        },
        {
          "output_type": "display_data",
          "data": {
            "text/plain": [
              "<Figure size 640x480 with 2 Axes>"
            ],
            "image/png": "[encoded data removed]"
          },
          "metadata": {}
        }
      ]
    },
    {
      "cell_type": "markdown",
      "source": [
        "尋找閥值\n"
      ],
      "metadata": {
        "id": "w0sYyl242ySS"
      }
    },
    {
      "cell_type": "code",
      "source": [
        "tmp = rbfModel.predict_proba(X_all_test)\n",
        "\n",
        "t_0=[]\n",
        "t_1=[]\n",
        "\n",
        "for i in range(len(tmp)):\n",
        "  t_0.append(tmp[i][0])\n",
        "  t_1.append(tmp[i][1])\n",
        "\n",
        "sorted_tmp_0 = sorted(t_0)\n",
        "sorted_tmp_1 = sorted(t_1)\n",
        "t0 = int(len(sorted_tmp_0) * 0.99)\n",
        "t1 = int(len(sorted_tmp_1) * 0.99)\n",
        "\n",
        "threshold0 = sorted_tmp_0[t0]\n",
        "threshold1 = sorted_tmp_1[t1]\n",
        "\n",
        "print(\"sell 閥值: \",threshold0)\n",
        "print(\"buy 閥值: \",threshold1)"
      ],
      "metadata": {
        "id": "hwpsy0tv2usZ",
        "colab": {
          "base_uri": "https://localhost:8080/"
        },
        "outputId": "c43c69c6-1936-4c39-f0c5-1bd61b32666a"
      },
      "execution_count": null,
      "outputs": [
        {
          "output_type": "stream",
          "name": "stdout",
          "text": [
            "sell 閥值:  0.585402775549326\n",
            "buy 閥值:  0.6787128983824215\n"
          ]
        }
      ]
    },
    {
      "cell_type": "markdown",
      "source": [
        "切出test資料"
      ],
      "metadata": {
        "id": "YedYihYA25dV"
      }
    },
    {
      "cell_type": "code",
      "source": [
        "!rm -rf \"raw_data\"\n",
        "!mkdir \"raw_data\"\n",
        "test_dir = os.listdir('/content/drive/MyDrive/Colab Notebooks/Needed2/StockData')\n",
        "\n",
        "for i in test_dir:\n",
        "  new_d = []\n",
        "  if \".csv\" not in i:\n",
        "    continue\n",
        "  d = pd.read_csv(\"/content/drive/MyDrive/Colab Notebooks/Needed2/StockData/\" + i)\n",
        "  # print(f\"====={i}=====\")\n",
        "  d.dropna(inplace=True)\n",
        "  # d.drop(columns=['close','after_inc_dec'],inplace=True)\n",
        "  d.reset_index(drop=True,inplace=True)\n",
        "\n",
        "  for j in range(len(d)):\n",
        "    date_str = d.iloc[j, 0].split()[0]\n",
        "    date = datetime.datetime.strptime(date_str, \"%Y-%m-%d\")\n",
        "\n",
        "    if date.year == 2024:\n",
        "      new_d.append(d.iloc[j, ])\n",
        "  new_data = pd.DataFrame(new_d)\n",
        "  new_data.to_csv(\"/content/raw_data/\" + i, index=False)"
      ],
      "metadata": {
        "id": "MPzc-HNX24ut"
      },
      "execution_count": null,
      "outputs": []
    },
    {
      "cell_type": "code",
      "source": [
        "!rm -rf \"test_data\"\n",
        "!mkdir \"test_data\"\n",
        "\n",
        "test_dir = os.listdir('/content/drive/MyDrive/Colab Notebooks/Needed2/Stock_K_Data')\n",
        "\n",
        "for i in test_dir:\n",
        "  new_d = []\n",
        "  if \".csv\" not in i:\n",
        "    continue\n",
        "  d = pd.read_csv(\"/content/drive/MyDrive/Colab Notebooks/Needed2/Stock_K_Data/\" + i)\n",
        "  # print(f\"====={i}=====\")\n",
        "  d.dropna(inplace=True)\n",
        "  d.drop(columns=['close','after_inc_dec'],inplace=True)\n",
        "  d.reset_index(drop=True,inplace=True)\n",
        "\n",
        "  for j in range(len(d)):\n",
        "    date_str = d.iloc[j, 0].split()[0]\n",
        "    date = datetime.datetime.strptime(date_str, \"%Y-%m-%d\")\n",
        "\n",
        "    if date.year == 2024 and date.month < 8:\n",
        "      new_d.append(d.iloc[j, ])\n",
        "    if date.year == 2024 and date.month == 8 and date.date == 1:\n",
        "      new_d.append(d.iloc[j, ])\n",
        "  new_data = pd.DataFrame(new_d)\n",
        "  new_data.to_csv(\"/content/test_data/\" + i, index=False)"
      ],
      "metadata": {
        "id": "vA1vl12t27fW"
      },
      "execution_count": null,
      "outputs": []
    },
    {
      "cell_type": "markdown",
      "source": [
        "buy/sell list 隔天大漲大跌的probabilty(8%以上)"
      ],
      "metadata": {
        "id": "xdCqAhb8SDne"
      }
    },
    {
      "cell_type": "code",
      "source": [
        "for i in range(1):\n",
        "  data = pd.read_csv(\"/content/rise.csv\")\n",
        "  data.drop(columns=['Date'], inplace=True)\n",
        "  scaler = StandardScaler().fit(data)\n",
        "  x = []\n",
        "  for j in range(len(data)):\n",
        "    x.append(data.iloc[j])\n",
        "\n",
        "  x = np.array(x)\n",
        "  x = scaler.transform(x)\n",
        "  result = rbfModel.predict_proba(x)\n",
        "  print(result)"
      ],
      "metadata": {
        "colab": {
          "base_uri": "https://localhost:8080/"
        },
        "id": "PUw9xIENSDF3",
        "outputId": "02b1377e-db47-4814-c5b0-ed4e2139dd20"
      },
      "execution_count": null,
      "outputs": [
        {
          "output_type": "stream",
          "name": "stdout",
          "text": [
            "[[0.43391116 0.56608884]\n",
            " [0.42559223 0.57440777]]\n"
          ]
        }
      ]
    },
    {
      "cell_type": "markdown",
      "source": [
        "丟模型跑出預測結果"
      ],
      "metadata": {
        "id": "9MH2lGDk3AKD"
      }
    },
    {
      "cell_type": "code",
      "source": [
        "!rm -rf \"signal\"\n",
        "!mkdir \"signal\"\n",
        "test_dir = os.listdir('/content/test_data')\n",
        "sell_count=0\n",
        "buy_count=0\n",
        "count=0\n",
        "df=pd.DataFrame()\n",
        "for i in test_dir:\n",
        "  if \".csv\" not in i:\n",
        "    continue\n",
        "  data = pd.read_csv(\"/content/test_data/\" + i)\n",
        "  count+=1\n",
        "  # print(f\"====={i}=====\")\n",
        "  # data.dropna(inplace=True)\n",
        "  if len(data) == 0:\n",
        "    continue\n",
        "  date = data['Date']\n",
        "  data.drop(columns=['Date'], inplace=True)\n",
        "  scaler = StandardScaler().fit(data)\n",
        "  x = []\n",
        "  for j in range(len(data)):\n",
        "    x.append(data.iloc[j])\n",
        "\n",
        "  x = np.array(x)\n",
        "  x = scaler.transform(x)\n",
        "\n",
        "  result = rbfModel.predict_proba(x)\n",
        "  sell_buy = []\n",
        "  for j in result:\n",
        "    if j[0] >= threshold0:\n",
        "      sell_count+=1\n",
        "      sell_buy.append(0)\n",
        "    elif j[1]>= threshold1:\n",
        "      buy_count+=1\n",
        "      sell_buy.append(1)\n",
        "    else:\n",
        "      sell_buy.append(-1)\n",
        "\n",
        "  data['Date'] = date\n",
        "  data[\"result\"] = sell_buy\n",
        "  data[\"sell\"] = result[:, 0]\n",
        "  data[\"buy\"] = result[:, 1]\n",
        "\n",
        "  data.to_csv(\"/content/signal/\" + i, index=False)\n",
        "print(\"sell: \",sell_count)\n",
        "print(\"buy: \",buy_count)"
      ],
      "metadata": {
        "id": "A8Rfjehg2_bE",
        "colab": {
          "base_uri": "https://localhost:8080/"
        },
        "outputId": "f01ab65b-46f0-48f9-da05-ee404fb54a24"
      },
      "execution_count": null,
      "outputs": [
        {
          "output_type": "stream",
          "name": "stdout",
          "text": [
            "sell:  22\n",
            "buy:  14\n"
          ]
        }
      ]
    },
    {
      "cell_type": "markdown",
      "source": [
        "計算profits"
      ],
      "metadata": {
        "id": "alcncsUx3E1a"
      }
    },
    {
      "cell_type": "code",
      "source": [
        "from __future__ import print_function\n",
        "stock = os.listdir(\"/content/signal/\") #有buy sell 訊號的檔案\n",
        "col_name3=['Date','result','W/L']\n",
        "\n",
        "n = 0\n",
        "total_count_W = 0\n",
        "total_count_L = 0\n",
        "total_count = 0\n",
        "total_profits = 0\n",
        "count_p = 0\n",
        "count_n = 0\n",
        "for i in stock:\n",
        "  profit = 0\n",
        "  count_W = 0\n",
        "  count_L = 0\n",
        "  count_0 = 0\n",
        "  count_1 = 0\n",
        "  count_null = 0\n",
        "  data_analyise=[]\n",
        "  if \".csv\" not in i: # not csv file\n",
        "    continue\n",
        "\n",
        "  data_result = pd.read_csv(\"/content/signal/\" + i) #日期跟操作\n",
        "  data_k = pd.read_csv(\"/content/raw_data/\" + i) #只有日期高低收\n",
        "\n",
        "  for j in range(len(data_result)):  #在結果資料中找到，對應的日期和操作\n",
        "    flag=0 #紀錄是否已經加入過新的list\n",
        "    target_date = data_result.loc[j,'Date']\n",
        "    target_oper = data_result.loc[j,'result']\n",
        "\n",
        "    for k in range(len(data_k)-1):\n",
        "      if flag == 1:\n",
        "        break;\n",
        "\n",
        "      if data_k.loc[k,'Date'] == target_date and target_oper != -1:\n",
        "        present = data_k.loc[k,'Close']\n",
        "        for t in range(k+1,k+11):\n",
        "          if t == k+10 or t == len(data_k)-1:\n",
        "            count_null+=1\n",
        "            data_analyise.append((data_result.loc[j,'Date'], data_result.loc[j,'result'], ((data_k.loc[t,'Close']-data_k.loc[k,'Close'])/data_k.loc[k,'Close'])))\n",
        "            if target_oper == 1:\n",
        "              profit+=((data_k.loc[t,'Close']-data_k.loc[k,'Close'])/data_k.loc[k,'Close'])\n",
        "              flag=1\n",
        "              break;\n",
        "            elif target_oper == 0:\n",
        "              profit-=((data_k.loc[t,'Close']-data_k.loc[k,'Close'])/data_k.loc[k,'Close'])\n",
        "              flag=1\n",
        "              break;\n",
        "\n",
        "          future_high = data_k.loc[t,'High'] #找出最高最低點，做止損止盈\n",
        "          future_low = data_k.loc[t,'Low']\n",
        "          percent_low = (future_low-present)/present\n",
        "          percent_high = (future_high-present)/present\n",
        "          if target_oper == 0: #sell\n",
        "            if percent_high >= 0.05: #sl\n",
        "              profit-=percent_high\n",
        "              data_analyise.append((data_result.loc[j,'Date'],data_result.loc[j,'result'],'L'))\n",
        "              count_L+=1\n",
        "              count_0+=1\n",
        "              flag=1\n",
        "              break;\n",
        "            elif percent_low <= -0.1: #tp\n",
        "              profit-=percent_low\n",
        "              data_analyise.append((data_result.loc[j,'Date'],data_result.loc[j,'result'],'W'))\n",
        "              count_W+=1\n",
        "              count_0+=1\n",
        "              flag=1\n",
        "              break;\n",
        "            else:\n",
        "              continue\n",
        "\n",
        "          elif target_oper == 1: #buy\n",
        "            if percent_high >= 0.1: #tp\n",
        "              profit+=percent_high\n",
        "              data_analyise.append((data_result.loc[j,'Date'],data_result.loc[j,'result'],'W'))\n",
        "              count_W+=1\n",
        "              count_1+=1\n",
        "              flag=1\n",
        "              break;\n",
        "\n",
        "            elif percent_low <= -0.05: #sl\n",
        "              profit+=percent_low\n",
        "              data_analyise.append((data_result.loc[j,'Date'],data_result.loc[j,'result'],'L'))\n",
        "              count_L+=1\n",
        "              count_1+=1\n",
        "              flag=1\n",
        "              break;\n",
        "            else:\n",
        "              continue\n",
        "\n",
        "  print(f\"====={i}=====\")\n",
        "  # print(\"sell: \",count_0)\n",
        "  # print(\"buy: \",count_1)\n",
        "  print(\"W: \",count_W)\n",
        "  print(\"L: \",count_L)\n",
        "  total_count += count_0 + count_1 + count_null\n",
        "  if count_W + count_L == 0:\n",
        "    print(\"win_rate: 0%\")\n",
        "  else:\n",
        "    print(\"win_rate: {0:.2f}%\".format(count_W / (count_W + count_L)*100))\n",
        "  total_count_L+=count_L\n",
        "  total_count_W+=count_W\n",
        "  print(\"profits: {0:.2f}%\".format(profit*100))\n",
        "  total_profits+=profit\n",
        "  if profit > 0:\n",
        "    count_p+=1\n",
        "  elif profit < 0:\n",
        "    count_n+=1\n",
        "  print(\"10天沒方向: \",count_null)\n",
        "  df = pd.DataFrame(data_analyise)\n",
        "  if df.empty: #如果這檔完全沒有任何信號則跳過\n",
        "    continue\n",
        "  df.columns = col_name3\n",
        "  # df.to_csv(\"./output/\" + i ,index=False)\n",
        "  print(\"==========\")"
      ],
      "metadata": {
        "id": "vgz0YSEr3Caq",
        "colab": {
          "base_uri": "https://localhost:8080/"
        },
        "outputId": "fa33ec81-02ec-4143-df0f-f601ab56994b"
      },
      "execution_count": null,
      "outputs": [
        {
          "output_type": "stream",
          "name": "stdout",
          "text": [
            "=====2886.TW.csv=====\n",
            "W:  0\n",
            "L:  0\n",
            "win_rate: 0%\n",
            "profits: 2.15%\n",
            "10天沒方向:  1\n",
            "==========\n",
            "=====1101.TW.csv=====\n",
            "W:  0\n",
            "L:  0\n",
            "win_rate: 0%\n",
            "profits: 3.44%\n",
            "10天沒方向:  1\n",
            "==========\n",
            "=====1303.TW.csv=====\n",
            "W:  0\n",
            "L:  0\n",
            "win_rate: 0%\n",
            "profits: 0.00%\n",
            "10天沒方向:  0\n",
            "=====2002.TW.csv=====\n",
            "W:  0\n",
            "L:  0\n",
            "win_rate: 0%\n",
            "profits: -4.89%\n",
            "10天沒方向:  1\n",
            "==========\n",
            "=====1301.TW.csv=====\n",
            "W:  0\n",
            "L:  0\n",
            "win_rate: 0%\n",
            "profits: -1.90%\n",
            "10天沒方向:  1\n",
            "==========\n",
            "=====2603.TW.csv=====\n",
            "W:  0\n",
            "L:  1\n",
            "win_rate: 0.00%\n",
            "profits: -5.37%\n",
            "10天沒方向:  0\n",
            "==========\n",
            "=====4904.TW.csv=====\n",
            "W:  0\n",
            "L:  0\n",
            "win_rate: 0%\n",
            "profits: 1.38%\n",
            "10天沒方向:  1\n",
            "==========\n",
            "=====3037.TW.csv=====\n",
            "W:  0\n",
            "L:  1\n",
            "win_rate: 0.00%\n",
            "profits: -5.57%\n",
            "10天沒方向:  0\n",
            "==========\n",
            "=====2379.TW.csv=====\n",
            "W:  0\n",
            "L:  0\n",
            "win_rate: 0%\n",
            "profits: 0.00%\n",
            "10天沒方向:  0\n",
            "=====6669.TW.csv=====\n",
            "W:  0\n",
            "L:  0\n",
            "win_rate: 0%\n",
            "profits: 0.00%\n",
            "10天沒方向:  0\n",
            "=====2330.TW.csv=====\n",
            "W:  0\n",
            "L:  0\n",
            "win_rate: 0%\n",
            "profits: 0.00%\n",
            "10天沒方向:  0\n",
            "=====2891.TW.csv=====\n",
            "W:  0\n",
            "L:  0\n",
            "win_rate: 0%\n",
            "profits: 5.13%\n",
            "10天沒方向:  1\n",
            "==========\n",
            "=====2881.TW.csv=====\n",
            "W:  0\n",
            "L:  0\n",
            "win_rate: 0%\n",
            "profits: 1.19%\n",
            "10天沒方向:  2\n",
            "==========\n",
            "=====2880.TW.csv=====\n",
            "W:  0\n",
            "L:  0\n",
            "win_rate: 0%\n",
            "profits: 0.00%\n",
            "10天沒方向:  0\n",
            "=====9910.TW.csv=====\n",
            "W:  0\n",
            "L:  0\n",
            "win_rate: 0%\n",
            "profits: 0.00%\n",
            "10天沒方向:  0\n",
            "=====2890.TW.csv=====\n",
            "W:  0\n",
            "L:  0\n",
            "win_rate: 0%\n",
            "profits: 0.00%\n",
            "10天沒方向:  0\n",
            "=====3231.TW.csv=====\n",
            "W:  0\n",
            "L:  1\n",
            "win_rate: 0.00%\n",
            "profits: -6.92%\n",
            "10天沒方向:  2\n",
            "==========\n",
            "=====2882.TW.csv=====\n",
            "W:  0\n",
            "L:  0\n",
            "win_rate: 0%\n",
            "profits: 0.00%\n",
            "10天沒方向:  0\n",
            "=====5880.TW.csv=====\n",
            "W:  0\n",
            "L:  0\n",
            "win_rate: 0%\n",
            "profits: 0.39%\n",
            "10天沒方向:  1\n",
            "==========\n",
            "=====2317.TW.csv=====\n",
            "W:  1\n",
            "L:  0\n",
            "win_rate: 100.00%\n",
            "profits: 10.80%\n",
            "10天沒方向:  0\n",
            "==========\n",
            "=====2308.TW.csv=====\n",
            "W:  0\n",
            "L:  2\n",
            "win_rate: 0.00%\n",
            "profits: -12.46%\n",
            "10天沒方向:  0\n",
            "==========\n",
            "=====4938.TW.csv=====\n",
            "W:  0\n",
            "L:  0\n",
            "win_rate: 0%\n",
            "profits: 7.14%\n",
            "10天沒方向:  1\n",
            "==========\n",
            "=====2884.TW.csv=====\n",
            "W:  0\n",
            "L:  1\n",
            "win_rate: 0.00%\n",
            "profits: -10.90%\n",
            "10天沒方向:  2\n",
            "==========\n",
            "=====2207.TW.csv=====\n",
            "W:  0\n",
            "L:  0\n",
            "win_rate: 0%\n",
            "profits: 0.00%\n",
            "10天沒方向:  0\n",
            "=====3711.TW.csv=====\n",
            "W:  0\n",
            "L:  0\n",
            "win_rate: 0%\n",
            "profits: 0.00%\n",
            "10天沒方向:  0\n",
            "=====5871.TW.csv=====\n",
            "W:  0\n",
            "L:  0\n",
            "win_rate: 0%\n",
            "profits: 0.00%\n",
            "10天沒方向:  0\n",
            "=====1216.TW.csv=====\n",
            "W:  0\n",
            "L:  0\n",
            "win_rate: 0%\n",
            "profits: 0.00%\n",
            "10天沒方向:  0\n",
            "=====3034.TW.csv=====\n",
            "W:  0\n",
            "L:  1\n",
            "win_rate: 0.00%\n",
            "profits: -8.35%\n",
            "10天沒方向:  0\n",
            "==========\n",
            "=====2303.TW.csv=====\n",
            "W:  0\n",
            "L:  0\n",
            "win_rate: 0%\n",
            "profits: 0.00%\n",
            "10天沒方向:  0\n",
            "=====5876.TW.csv=====\n",
            "W:  0\n",
            "L:  0\n",
            "win_rate: 0%\n",
            "profits: 0.00%\n",
            "10天沒方向:  0\n",
            "=====3008.TW.csv=====\n",
            "W:  0\n",
            "L:  0\n",
            "win_rate: 0%\n",
            "profits: 0.00%\n",
            "10天沒方向:  1\n",
            "==========\n",
            "=====2801.TW.csv=====\n",
            "W:  0\n",
            "L:  0\n",
            "win_rate: 0%\n",
            "profits: 0.00%\n",
            "10天沒方向:  0\n",
            "=====1590.TW.csv=====\n",
            "W:  1\n",
            "L:  0\n",
            "win_rate: 100.00%\n",
            "profits: 10.71%\n",
            "10天沒方向:  0\n",
            "==========\n",
            "=====2395.TW.csv=====\n",
            "W:  1\n",
            "L:  0\n",
            "win_rate: 100.00%\n",
            "profits: 8.89%\n",
            "10天沒方向:  1\n",
            "==========\n",
            "=====2345.TW.csv=====\n",
            "W:  1\n",
            "L:  0\n",
            "win_rate: 100.00%\n",
            "profits: 10.29%\n",
            "10天沒方向:  0\n",
            "==========\n",
            "=====2892.TW.csv=====\n",
            "W:  0\n",
            "L:  0\n",
            "win_rate: 0%\n",
            "profits: 0.00%\n",
            "10天沒方向:  0\n",
            "=====6505.TW.csv=====\n",
            "W:  0\n",
            "L:  0\n",
            "win_rate: 0%\n",
            "profits: 0.00%\n",
            "10天沒方向:  0\n",
            "=====2912.TW.csv=====\n",
            "W:  0\n",
            "L:  0\n",
            "win_rate: 0%\n",
            "profits: 0.00%\n",
            "10天沒方向:  0\n",
            "=====2357.TW.csv=====\n",
            "W:  0\n",
            "L:  0\n",
            "win_rate: 0%\n",
            "profits: 0.00%\n",
            "10天沒方向:  0\n",
            "=====2887.TW.csv=====\n",
            "W:  0\n",
            "L:  0\n",
            "win_rate: 0%\n",
            "profits: 0.00%\n",
            "10天沒方向:  0\n",
            "=====3045.TW.csv=====\n",
            "W:  0\n",
            "L:  0\n",
            "win_rate: 0%\n",
            "profits: 3.16%\n",
            "10天沒方向:  2\n",
            "==========\n",
            "=====2883.TW.csv=====\n",
            "W:  0\n",
            "L:  2\n",
            "win_rate: 0.00%\n",
            "profits: -7.42%\n",
            "10天沒方向:  1\n",
            "==========\n",
            "=====2408.TW.csv=====\n",
            "W:  0\n",
            "L:  0\n",
            "win_rate: 0%\n",
            "profits: 0.00%\n",
            "10天沒方向:  0\n",
            "=====2382.TW.csv=====\n",
            "W:  0\n",
            "L:  0\n",
            "win_rate: 0%\n",
            "profits: 0.00%\n",
            "10天沒方向:  0\n",
            "=====2301.TW.csv=====\n",
            "W:  0\n",
            "L:  0\n",
            "win_rate: 0%\n",
            "profits: 0.00%\n",
            "10天沒方向:  0\n",
            "=====2327.TW.csv=====\n",
            "W:  0\n",
            "L:  0\n",
            "win_rate: 0%\n",
            "profits: 2.70%\n",
            "10天沒方向:  1\n",
            "==========\n",
            "=====2454.TW.csv=====\n",
            "W:  0\n",
            "L:  1\n",
            "win_rate: 0.00%\n",
            "profits: -5.69%\n",
            "10天沒方向:  0\n",
            "==========\n",
            "=====2412.TW.csv=====\n",
            "W:  0\n",
            "L:  0\n",
            "win_rate: 0%\n",
            "profits: 0.00%\n",
            "10天沒方向:  0\n",
            "=====2885.TW.csv=====\n",
            "W:  0\n",
            "L:  0\n",
            "win_rate: 0%\n",
            "profits: 0.99%\n",
            "10天沒方向:  1\n",
            "==========\n",
            "=====1326.TW.csv=====\n",
            "W:  0\n",
            "L:  0\n",
            "win_rate: 0%\n",
            "profits: -2.32%\n",
            "10天沒方向:  1\n",
            "==========\n"
          ]
        }
      ]
    },
    {
      "cell_type": "code",
      "source": [
        "print(\"total profits: {0:.2f}%\".format(total_profits*100))\n",
        "print(\"win_rate: {0:.2f}%\".format(total_count_W / (total_count_W + total_count_L)*100))\n",
        "print(\"扣除手續費的獲利: {0:.2f}%\".format(total_profits*100-total_count*0.6))\n",
        "print(\"交易次數:  \",total_count)\n",
        "print(\"P: \",count_p)\n",
        "print(\"N: \",count_n)"
      ],
      "metadata": {
        "id": "HxRNdCs23IvJ",
        "colab": {
          "base_uri": "https://localhost:8080/"
        },
        "outputId": "84d68495-8a3c-4957-db73-b196febb33ff"
      },
      "execution_count": null,
      "outputs": [
        {
          "output_type": "stream",
          "name": "stdout",
          "text": [
            "total profits: -3.42%\n",
            "win_rate: 28.57%\n",
            "扣除手續費的獲利: -25.02%\n",
            "交易次數:   36\n",
            "P:  14\n",
            "N:  11\n"
          ]
        }
      ]
    }
  ]
}