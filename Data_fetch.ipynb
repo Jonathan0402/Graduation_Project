{
  "nbformat": 4,
  "nbformat_minor": 0,
  "metadata": {
    "colab": {
      "provenance": [],
      "gpuType": "T4"
    },
    "kernelspec": {
      "name": "python3",
      "display_name": "Python 3"
    },
    "language_info": {
      "name": "python"
    },
    "accelerator": "GPU"
  },
  "cells": [
    {
      "cell_type": "code",
      "source": [
        "from google.colab import drive\n",
        "drive.mount('/content/drive')"
      ],
      "metadata": {
        "colab": {
          "base_uri": "https://localhost:8080/"
        },
        "id": "6CVW1IPg800x",
        "outputId": "71ef310b-b87f-471d-888e-bd31af01473d"
      },
      "execution_count": null,
      "outputs": [
        {
          "output_type": "stream",
          "name": "stdout",
          "text": [
            "Mounted at /content/drive\n"
          ]
        }
      ]
    },
    {
      "cell_type": "code",
      "source": [],
      "metadata": {
        "id": "8aZRHEqRU_Sn"
      },
      "execution_count": null,
      "outputs": []
    },
    {
      "cell_type": "code",
      "execution_count": null,
      "metadata": {
        "id": "AV_Hc5Zcuyhy"
      },
      "outputs": [],
      "source": [
        "!pip install yfinance\n",
        "!pip install pandas"
      ]
    },
    {
      "cell_type": "code",
      "source": [
        "!mkdir \"train_data\"\n",
        "!mkdir \"test_data\""
      ],
      "metadata": {
        "id": "fvkUkdgAIivy"
      },
      "execution_count": null,
      "outputs": []
    },
    {
      "cell_type": "code",
      "source": [
        "import yfinance as yf\n",
        "import pandas as pd\n",
        "import os"
      ],
      "metadata": {
        "id": "UmicnX8Su4Le"
      },
      "execution_count": null,
      "outputs": []
    },
    {
      "cell_type": "code",
      "source": [
        "# prompt: readlines時去除換行符號\n",
        "\n",
        "with open('your_file.txt', 'r') as f:\n",
        "  lines = [line.rstrip('\\n') for line in f]\n",
        "\n",
        "# lines now contains a list of strings without newline characters\n"
      ],
      "metadata": {
        "id": "sQJgRIx7wIf-"
      },
      "execution_count": null,
      "outputs": []
    },
    {
      "cell_type": "code",
      "source": [
        "with open(\"/content/drive/MyDrive/Colab Notebooks/train_list.txt\", \"r\") as f:\n",
        "    lines = [line.rstrip('\\n') for line in f]\n",
        "for line in lines:\n",
        "  stock = yf.download(line)\n",
        "  stock.to_csv(\"/content/drive/MyDrive/Colab Notebooks/Needed2/StockData/\" + line + \".csv\")"
      ],
      "metadata": {
        "colab": {
          "base_uri": "https://localhost:8080/"
        },
        "id": "cYxNoc7juPiT",
        "outputId": "4fcb549e-f55e-4a45-c2d8-490657aa2fb1"
      },
      "execution_count": null,
      "outputs": [
        {
          "output_type": "stream",
          "name": "stderr",
          "text": [
            "[*********************100%%**********************]  1 of 1 completed\n",
            "[*********************100%%**********************]  1 of 1 completed\n",
            "[*********************100%%**********************]  1 of 1 completed\n",
            "[*********************100%%**********************]  1 of 1 completed\n",
            "[*********************100%%**********************]  1 of 1 completed\n",
            "[*********************100%%**********************]  1 of 1 completed\n",
            "[*********************100%%**********************]  1 of 1 completed\n",
            "[*********************100%%**********************]  1 of 1 completed\n",
            "[*********************100%%**********************]  1 of 1 completed\n",
            "[*********************100%%**********************]  1 of 1 completed\n",
            "[*********************100%%**********************]  1 of 1 completed\n",
            "[*********************100%%**********************]  1 of 1 completed\n",
            "[*********************100%%**********************]  1 of 1 completed\n",
            "[*********************100%%**********************]  1 of 1 completed\n",
            "[*********************100%%**********************]  1 of 1 completed\n",
            "[*********************100%%**********************]  1 of 1 completed\n",
            "[*********************100%%**********************]  1 of 1 completed\n",
            "[*********************100%%**********************]  1 of 1 completed\n",
            "[*********************100%%**********************]  1 of 1 completed\n",
            "[*********************100%%**********************]  1 of 1 completed\n",
            "[*********************100%%**********************]  1 of 1 completed\n",
            "[*********************100%%**********************]  1 of 1 completed\n",
            "[*********************100%%**********************]  1 of 1 completed\n",
            "[*********************100%%**********************]  1 of 1 completed\n",
            "[*********************100%%**********************]  1 of 1 completed\n",
            "[*********************100%%**********************]  1 of 1 completed\n",
            "[*********************100%%**********************]  1 of 1 completed\n",
            "[*********************100%%**********************]  1 of 1 completed\n",
            "[*********************100%%**********************]  1 of 1 completed\n",
            "[*********************100%%**********************]  1 of 1 completed\n",
            "[*********************100%%**********************]  1 of 1 completed\n",
            "[*********************100%%**********************]  1 of 1 completed\n",
            "[*********************100%%**********************]  1 of 1 completed\n",
            "[*********************100%%**********************]  1 of 1 completed\n",
            "[*********************100%%**********************]  1 of 1 completed\n",
            "[*********************100%%**********************]  1 of 1 completed\n",
            "[*********************100%%**********************]  1 of 1 completed\n",
            "[*********************100%%**********************]  1 of 1 completed\n",
            "[*********************100%%**********************]  1 of 1 completed\n",
            "[*********************100%%**********************]  1 of 1 completed\n",
            "[*********************100%%**********************]  1 of 1 completed\n",
            "[*********************100%%**********************]  1 of 1 completed\n",
            "[*********************100%%**********************]  1 of 1 completed\n",
            "[*********************100%%**********************]  1 of 1 completed\n",
            "[*********************100%%**********************]  1 of 1 completed\n",
            "[*********************100%%**********************]  1 of 1 completed\n",
            "[*********************100%%**********************]  1 of 1 completed\n",
            "[*********************100%%**********************]  1 of 1 completed\n",
            "[*********************100%%**********************]  1 of 1 completed\n",
            "[*********************100%%**********************]  1 of 1 completed\n"
          ]
        }
      ]
    },
    {
      "cell_type": "markdown",
      "source": [
        "一個一個抓"
      ],
      "metadata": {
        "id": "GcNsBfdeHlSN"
      }
    },
    {
      "cell_type": "code",
      "source": [
        "# import yfinance as yf\n",
        "# import pandas as pd\n",
        "# stock='5347'\n",
        "\n",
        "\n",
        "# hist = yf.Ticker(stock+\".TWO\").history(start=\"2000-01-04\", end=\"2022-12-31\")\n",
        "# attributes=['Open','High','Low','Close','Volume']\n",
        "# df = pd.DataFrame(columns=attributes,data=hist)\n",
        "# df.rename(columns={\"Date\":\"date\",\"Open\": \"open\", \"High\": \"high\", \"Low\": \"low\", \"Close\": \"close\", \"Volume\": \"volume\"}, inplace=True)\n",
        "# filename = f'{stock}.csv'\n",
        "# df.to_csv(\"/content/drive/MyDrive/Colab Notebooks/136_stocks/train_data/\" + stock, index=True)"
      ],
      "metadata": {
        "id": "znxk00R73jlC"
      },
      "execution_count": null,
      "outputs": []
    },
    {
      "cell_type": "markdown",
      "source": [
        "用迴圈一次抓完\n"
      ],
      "metadata": {
        "id": "4qRyPDv1HnXD"
      }
    },
    {
      "cell_type": "code",
      "source": [
        "!pip install --upgrade yfinance"
      ],
      "metadata": {
        "id": "v4wrGhR-bvq9"
      },
      "execution_count": null,
      "outputs": []
    },
    {
      "cell_type": "code",
      "source": [
        "\n",
        "with open(\"/content/drive/MyDrive/Colab Notebooks/stock_list.txt\", \"r\") as f:\n",
        "    train_list = f.readlines()\n",
        "train_list = [line.strip()[:4] for line in train_list]"
      ],
      "metadata": {
        "id": "P2lbZia5P7zZ"
      },
      "execution_count": null,
      "outputs": []
    },
    {
      "cell_type": "code",
      "source": [
        "import yfinance as yf\n",
        "import pandas as pd\n",
        "import os\n",
        "\n",
        "count=0\n",
        "\n",
        "# data_file = os.listdir(\"./data/\")\n",
        "# stocks=[\n",
        "#   '2330', '2454', '2317', '2308', '2303', '2382', '2891', '2881', '3711', '2412',\n",
        "#   '2886', '2882', '2884', '1303', '1216', '2357', '2885', '2002', '1301', '3034',\n",
        "#   '2892', '3008', '5880', '3231', '2345', '5871', '2301', '2327', '2207', '2880',\n",
        "#   '3037', '2890', '2379', '1101', '2887', '1326', '2883', '4938', '5876', '2395',\n",
        "#   '3045', '6669', '2912', '2603', '1590', '4904', '2801', '6505', '2408', '9910',\n",
        "#   '2409', '1102', '2401', '1402', '3006', '2324', '2359', '1608', '6139', '9904',\n",
        "#   '2834', '2340', '1802', '8210', '6191', '2352', '2812', '2419', '2369', '3017',\n",
        "#   '8112', '6239', '2515', '1605', '4906', '3036', '1522', '2027', '3044', '2377',\n",
        "#   '1513', '9945', '3005', '2204', '5469', '2337', '2408', '1907', '3706', '2363',\n",
        "#   '1504', '2105', '3702', '3481', '2376', '2888', '2354', '2014', '6005', '2615',\n",
        "#   '1514', '2449', '6285', '6770', '2421', '2206', '5521', '5388', '2313', '2353',\n",
        "#   '3032', '2606', '3545', '9919', '6116', '2356', '2399'\n",
        "# ]\n",
        "\n",
        "# stock_two = [\n",
        "#   '5483', '3483', '5347', '6290', '6125', '3163', '6188', '3325', '5425', '4908',\n",
        "#   '3078', '3264', '6274', '3548', '3363', '3260', '3105', '8358', '5009'\n",
        "# ]\n",
        "\n",
        "stock_two = [\n",
        "    '3260', '3324', '3526', '4909', '4979', '5426', '6104', '6180', '6182', '6223',\n",
        "    '6462', '6643'\n",
        "]\n",
        "for stock in train_list:\n",
        "  count+=1\n",
        "  if stock in stock_two:\n",
        "    continue\n",
        "  hist = yf.Ticker(stock+\".TW\").history(start=\"2024-03-01\", end=\"2024-05-02\")\n",
        "  attributes=['Open','High','Low','Close','Volume']\n",
        "  df = pd.DataFrame(columns=attributes,data=hist)\n",
        "  df.rename(columns={\"Date\":\"date\",\"Open\": \"open\", \"High\": \"high\", \"Low\": \"low\", \"Close\": \"close\", \"Volume\": \"volume\"}, inplace=True)\n",
        "  filename = f'{stock}.csv'\n",
        "  df.to_csv(\"/content/drive/MyDrive/Colab Notebooks/135_stocks/89_compare/\" + filename, index=True)\n",
        "\n",
        "\n",
        "for stock in stock_two:\n",
        "  count+=1\n",
        "  hist = yf.Ticker(stock+\".TWO\").history(start=\"2024-03-01\", end=\"2024-05-02\")\n",
        "  attributes=['Open','High','Low','Close','Volume']\n",
        "  df = pd.DataFrame(columns=attributes,data=hist)\n",
        "  df.rename(columns={\"Date\":\"date\",\"Open\": \"open\", \"High\": \"high\", \"Low\": \"low\", \"Close\": \"close\", \"Volume\": \"volume\"}, inplace=True)\n",
        "  filename = f'{stock}.csv'\n",
        "  df.to_csv(\"/content/drive/MyDrive/Colab Notebooks/135_stocks/89_compare/\" + filename, index=True)\n",
        "# for i in data_file:\n",
        "#   if \".csv\" not in i:\n",
        "#     continue\n",
        "#   else:\n",
        "#     data = pd.read_csv(\"./data/\" + i)\n",
        "#     data.to_csv(\"./data/\" + i ,index=True)\n",
        "\n"
      ],
      "metadata": {
        "id": "6KOa3_you7vm"
      },
      "execution_count": null,
      "outputs": []
    },
    {
      "cell_type": "code",
      "source": [
        "count"
      ],
      "metadata": {
        "colab": {
          "base_uri": "https://localhost:8080/"
        },
        "id": "slcg78FUtClt",
        "outputId": "a7659b90-440d-45aa-9ad3-f82de5f2b7cf"
      },
      "execution_count": null,
      "outputs": [
        {
          "output_type": "execute_result",
          "data": {
            "text/plain": [
              "136"
            ]
          },
          "metadata": {},
          "execution_count": 19
        }
      ]
    },
    {
      "cell_type": "code",
      "source": [
        "!zip -r train_data.zip train_data"
      ],
      "metadata": {
        "id": "6tih8BfMI-bA"
      },
      "execution_count": null,
      "outputs": []
    },
    {
      "cell_type": "code",
      "source": [
        "!zip -r test_data.zip test_data"
      ],
      "metadata": {
        "colab": {
          "base_uri": "https://localhost:8080/"
        },
        "id": "_IrPmmRsz66T",
        "outputId": "37511bc3-4aae-4bd8-8e8b-10540b4421c3"
      },
      "execution_count": null,
      "outputs": [
        {
          "output_type": "stream",
          "name": "stdout",
          "text": [
            "  adding: test_data/ (stored 0%)\n"
          ]
        }
      ]
    }
  ]
}